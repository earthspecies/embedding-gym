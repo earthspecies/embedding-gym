{
 "cells": [
  {
   "cell_type": "markdown",
   "metadata": {},
   "source": [
    "# Embedding Gym bookshelf\n",
    "> readings particularly relevant to working with embeddings"
   ]
  },
  {
   "cell_type": "markdown",
   "metadata": {},
   "source": [
    "[The Illustrated Word2vec](http://jalammar.github.io/illustrated-word2vec/) - a very good introduction to the Word2Vec family of models\n",
    "\n",
    "[Word2Vec: Efficient Estimation of Word Representations in Vector Space](https://arxiv.org/abs/1301.3781) - training of embeddings using two takes on utilizing local context window - continuous bag of words (CBOW) and Skip-gram\n",
    "\n",
    "[GloVe: Global Vectors for Word Representation](https://nlp.stanford.edu/pubs/glove.pdf) - a discussion of what it means to obtain a vector space with meaningful substructure, training of embeddings that utilizes both local context and global statistics (co-occurence counts across entire dataset)\n",
    "\n",
    "[FastText: Enriching Word Vectors with Subword Information](https://arxiv.org/abs/1607.04606) - embeddings that incorporate subword information\n",
    "\n",
    "[Word Translation Without Parallel Data](https://arxiv.org/abs/1710.04087) - alignment of multilingual FastText embeddings with a deep adverserial network"
   ]
  }
 ],
 "metadata": {
  "kernelspec": {
   "display_name": "Python 3",
   "language": "python",
   "name": "python3"
  },
  "language_info": {
   "codemirror_mode": {
    "name": "ipython",
    "version": 3
   },
   "file_extension": ".py",
   "mimetype": "text/x-python",
   "name": "python",
   "nbconvert_exporter": "python",
   "pygments_lexer": "ipython3",
   "version": "3.7.6"
  }
 },
 "nbformat": 4,
 "nbformat_minor": 4
}
