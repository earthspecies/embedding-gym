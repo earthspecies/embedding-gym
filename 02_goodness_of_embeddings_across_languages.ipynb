{
 "cells": [
  {
   "cell_type": "markdown",
   "metadata": {},
   "source": [
    "## How do you evaluate goodness of embeddings across languages?\n",
    "\n",
    "If you have embeddings for language A and another set of embeddings for language B, how can you tell how good they are? \n",
    "\n",
    "We might want to evaluate each set on a task specific to that language. But a much more interesting proposition is aligning the embeddings in an unsupervised way and evaluating the performance on translation!\n",
    "\n",
    "For this, we need 3 components. [The embeddings](https://fasttext.cc/docs/en/pretrained-vectors.html), [a way to align embeddings](https://github.com/artetxem/vecmap) and [dictionaries](https://github.com/facebookresearch/MUSE) we can use to evaluate the results.\n",
    "\n",
    "Let's begin by grabbing embeddings for English and Polish."
   ]
  },
  {
   "cell_type": "code",
   "execution_count": 1,
   "metadata": {},
   "outputs": [
    {
     "name": "stdout",
     "output_type": "stream",
     "text": [
      "--2020-09-14 17:58:30--  https://dl.fbaipublicfiles.com/fasttext/vectors-wiki/wiki.en.vec\n",
      "Resolving dl.fbaipublicfiles.com (dl.fbaipublicfiles.com)... 172.67.9.4, 104.22.75.142, 104.22.74.142, ...\n",
      "Connecting to dl.fbaipublicfiles.com (dl.fbaipublicfiles.com)|172.67.9.4|:443... connected.\n",
      "HTTP request sent, awaiting response... 200 OK\n",
      "Length: 6597238061 (6.1G) [binary/octet-stream]\n",
      "Saving to: ‘data/wiki.en.vec’\n",
      "\n",
      "wiki.en.vec         100%[===================>]   6.14G  55.4MB/s    in 1m 56s  \n",
      "\n",
      "2020-09-14 18:00:26 (54.5 MB/s) - ‘data/wiki.en.vec’ saved [6597238061/6597238061]\n",
      "\n"
     ]
    }
   ],
   "source": [
    "!wget -P data https://dl.fbaipublicfiles.com/fasttext/vectors-wiki/wiki.en.vec"
   ]
  },
  {
   "cell_type": "code",
   "execution_count": 2,
   "metadata": {},
   "outputs": [
    {
     "name": "stdout",
     "output_type": "stream",
     "text": [
      "--2020-09-14 18:00:26--  https://dl.fbaipublicfiles.com/fasttext/vectors-wiki/wiki.pl.vec\n",
      "Resolving dl.fbaipublicfiles.com (dl.fbaipublicfiles.com)... 104.22.74.142, 172.67.9.4, 104.22.75.142, ...\n",
      "Connecting to dl.fbaipublicfiles.com (dl.fbaipublicfiles.com)|104.22.74.142|:443... connected.\n",
      "HTTP request sent, awaiting response... 200 OK\n",
      "Length: 2707436342 (2.5G) [binary/octet-stream]\n",
      "Saving to: ‘data/wiki.pl.vec’\n",
      "\n",
      "wiki.pl.vec         100%[===================>]   2.52G  31.6MB/s    in 71s     \n",
      "\n",
      "2020-09-14 18:01:37 (36.6 MB/s) - ‘data/wiki.pl.vec’ saved [2707436342/2707436342]\n",
      "\n"
     ]
    }
   ],
   "source": [
    "!wget -P data https://dl.fbaipublicfiles.com/fasttext/vectors-wiki/wiki.pl.vec"
   ]
  },
  {
   "cell_type": "markdown",
   "metadata": {},
   "source": [
    "Time to align the embeddings. Let's translate from Polish to English. In order to do that, let's align our Polish embeddings with our English embeddings.\n",
    "\n",
    "Bear in mind that this is a challenging task - Polish and English come from distinct and very different language families (West Slavic languages of the Lechitic group and West Germanic language of the Indo-European language family respectively).\n",
    "\n",
    "Let us clone [vecmap](https://github.com/artetxem/vecmap) to a directory adjacent to this one and perform the alignment."
   ]
  },
  {
   "cell_type": "code",
   "execution_count": 3,
   "metadata": {},
   "outputs": [
    {
     "name": "stdout",
     "output_type": "stream",
     "text": [
      "CPU times: user 17.8 s, sys: 5.69 s, total: 23.5 s\n",
      "Wall time: 26min 45s\n"
     ]
    }
   ],
   "source": [
    "%%time\n",
    "!python ../vecmap/map_embeddings.py --cuda --unsupervised data/wiki.pl.vec data/wiki.en.vec data/wiki.pl.aligned.vec data/wiki.en.aligned.vec"
   ]
  },
  {
   "cell_type": "markdown",
   "metadata": {},
   "source": [
    "Great! We now have the English and Polish embeddings aligned to live in the same embedding space!\n",
    "\n",
    "Let's grab a Polish to English dictionary from the MUSE repository."
   ]
  },
  {
   "cell_type": "code",
   "execution_count": 4,
   "metadata": {},
   "outputs": [
    {
     "name": "stdout",
     "output_type": "stream",
     "text": [
      "--2020-09-14 18:28:23--  https://dl.fbaipublicfiles.com/arrival/dictionaries/pl-en.txt\n",
      "Resolving dl.fbaipublicfiles.com (dl.fbaipublicfiles.com)... 104.22.74.142, 104.22.75.142, 172.67.9.4, ...\n",
      "Connecting to dl.fbaipublicfiles.com (dl.fbaipublicfiles.com)|104.22.74.142|:443... connected.\n",
      "HTTP request sent, awaiting response... 200 OK\n",
      "Length: 1216386 (1.2M) [text/plain]\n",
      "Saving to: ‘data/pl-en.txt’\n",
      "\n",
      "pl-en.txt           100%[===================>]   1.16M  --.-KB/s    in 0.03s   \n",
      "\n",
      "2020-09-14 18:28:24 (34.8 MB/s) - ‘data/pl-en.txt’ saved [1216386/1216386]\n",
      "\n"
     ]
    }
   ],
   "source": [
    "!wget -P data https://dl.fbaipublicfiles.com/arrival/dictionaries/pl-en.txt"
   ]
  },
  {
   "cell_type": "code",
   "execution_count": 5,
   "metadata": {},
   "outputs": [],
   "source": [
    "class Dictionary():\n",
    "    def __init__(self, path_to_dict):\n",
    "        self.read_words(path_to_dict)\n",
    "        \n",
    "    def read_words(self, path_to_dict):\n",
    "        source_words, target_words = [], []\n",
    "        with open(path_to_dict) as f:\n",
    "            for line in f.readlines():\n",
    "                src, target = line.strip().split()\n",
    "                source_words.append(src)\n",
    "                target_words.append(target)\n",
    "        self.source_words = source_words\n",
    "        self.target_words = target_words\n",
    "        self.create_dict()\n",
    "        \n",
    "    def create_dict(self):\n",
    "        self.dict = {}\n",
    "        for src, target in zip(self.source_words, self.target_words):\n",
    "            self.dict[src] = target\n",
    "            \n",
    "    def __getitem__(self, source_word):\n",
    "        return self.dict[source_word]"
   ]
  },
  {
   "cell_type": "code",
   "execution_count": 7,
   "metadata": {},
   "outputs": [],
   "source": [
    "from embedding_gym.core import Embeddings"
   ]
  },
  {
   "cell_type": "code",
   "execution_count": 9,
   "metadata": {},
   "outputs": [],
   "source": [
    "embeddings = Embeddings.create_from_txt_file('data/wiki.pl.aligned.vec')"
   ]
  },
  {
   "cell_type": "code",
   "execution_count": 10,
   "metadata": {},
   "outputs": [
    {
     "data": {
      "text/plain": [
       "1032440"
      ]
     },
     "execution_count": 10,
     "metadata": {},
     "output_type": "execute_result"
    }
   ],
   "source": [
    "len(embeddings.vectors)"
   ]
  },
  {
   "cell_type": "code",
   "execution_count": 6,
   "metadata": {},
   "outputs": [],
   "source": [
    "pl_en_dict = Dictionary('data/pl-en.txt')"
   ]
  },
  {
   "cell_type": "code",
   "execution_count": 36,
   "metadata": {},
   "outputs": [
    {
     "name": "stdout",
     "output_type": "stream",
     "text": [
      "CPU times: user 1min 56s, sys: 1.81 s, total: 1min 58s\n",
      "Wall time: 1min 58s\n"
     ]
    }
   ],
   "source": [
    "%%time\n",
    "import numpy as np\n",
    "\n",
    "words, vectors = [], []\n",
    "with open('data/wiki.pl.aligned.vec') as f:\n",
    "    for line in f.readlines()[1:]:\n",
    "        try:\n",
    "            vectors.append(np.array([float(s) for s in line.split()[1:]]))\n",
    "            words.append(line.split()[0])\n",
    "        except ValueError: pass # we may have encountered a 2 word embedding, for instance 'New York' or 'w dolinie'"
   ]
  },
  {
   "cell_type": "code",
   "execution_count": 37,
   "metadata": {},
   "outputs": [
    {
     "data": {
      "text/plain": [
       "(1032440, 1032440)"
      ]
     },
     "execution_count": 37,
     "metadata": {},
     "output_type": "execute_result"
    }
   ],
   "source": [
    "len(words), len(vectors)"
   ]
  },
  {
   "cell_type": "code",
   "execution_count": 34,
   "metadata": {},
   "outputs": [
    {
     "data": {
      "text/plain": [
       "'stryjsko'"
      ]
     },
     "execution_count": 34,
     "metadata": {},
     "output_type": "execute_result"
    }
   ],
   "source": [
    "words[-1]"
   ]
  },
  {
   "cell_type": "code",
   "execution_count": 19,
   "metadata": {},
   "outputs": [],
   "source": [
    "with open('embeddings/GoogleNews-vectors-negative300.bin', 'rb') as f:\n",
    "    for line in f.readlines()[1:]:\n",
    "        break"
   ]
  },
  {
   "cell_type": "code",
   "execution_count": 16,
   "metadata": {},
   "outputs": [
    {
     "data": {
      "text/plain": [
       "['w',\n",
       " 'dolinie',\n",
       " '0.0561845',\n",
       " '-0.099156',\n",
       " '0.0973581',\n",
       " '0.128611',\n",
       " '-0.148211',\n",
       " '0.0408076',\n",
       " '-0.0254702',\n",
       " '0.137409',\n",
       " '-0.107757',\n",
       " '0.104452',\n",
       " '-0.0153174',\n",
       " '0.0601579',\n",
       " '-0.0359006',\n",
       " '-0.0488789',\n",
       " '-0.0563178',\n",
       " '-0.0381448',\n",
       " '-0.000313493',\n",
       " '-0.0584841',\n",
       " '0.0142587',\n",
       " '0.11536',\n",
       " '-0.0162321',\n",
       " '0.0281857',\n",
       " '-0.0378724',\n",
       " '-0.0489152',\n",
       " '-0.0639852',\n",
       " '0.0173485',\n",
       " '0.0243728',\n",
       " '-0.0364188',\n",
       " '0.06553',\n",
       " '0.0687198',\n",
       " '-0.0279721',\n",
       " '-0.0613634',\n",
       " '-0.0206989',\n",
       " '-0.0979436',\n",
       " '0.0609454',\n",
       " '0.038113',\n",
       " '0.00661096',\n",
       " '-0.028542',\n",
       " '0.0440013',\n",
       " '-0.0697895',\n",
       " '-0.0613983',\n",
       " '-0.00467289',\n",
       " '-0.0113318',\n",
       " '0.0409988',\n",
       " '-0.0443909',\n",
       " '0.0446194',\n",
       " '0.0336209',\n",
       " '0.0795524',\n",
       " '0.068961',\n",
       " '0.00922872',\n",
       " '-0.0808638',\n",
       " '0.0819113',\n",
       " '0.0424515',\n",
       " '0.0197476',\n",
       " '0.0303924',\n",
       " '0.0311507',\n",
       " '0.0597063',\n",
       " '0.120256',\n",
       " '0.00299538',\n",
       " '-0.0428498',\n",
       " '0.0342093',\n",
       " '0.0628188',\n",
       " '-0.0602852',\n",
       " '-0.00287612',\n",
       " '-0.00126272',\n",
       " '0.0225569',\n",
       " '-0.00373424',\n",
       " '0.0613833',\n",
       " '-0.0316615',\n",
       " '-0.0836044',\n",
       " '-0.064924',\n",
       " '0.00350225',\n",
       " '0.0632372',\n",
       " '-0.036402',\n",
       " '-0.109889',\n",
       " '0.0577933',\n",
       " '-0.0518368',\n",
       " '0.0281162',\n",
       " '-0.0618608',\n",
       " '-0.00950063',\n",
       " '0.0298945',\n",
       " '0.0284832',\n",
       " '0.0787255',\n",
       " '-0.00625785',\n",
       " '0.0126796',\n",
       " '-0.0293211',\n",
       " '0.0854847',\n",
       " '-0.0231208',\n",
       " '-0.0302269',\n",
       " '-0.0176793',\n",
       " '0.0674815',\n",
       " '0.000200197',\n",
       " '-0.0591893',\n",
       " '-0.00638885',\n",
       " '-0.0477593',\n",
       " '-0.000707717',\n",
       " '-0.0153568',\n",
       " '-0.0125425',\n",
       " '-0.0571089',\n",
       " '0.0469068',\n",
       " '-0.00685702',\n",
       " '0.0297821',\n",
       " '-0.00792889',\n",
       " '0.00625179',\n",
       " '-0.00321511',\n",
       " '-0.0151517',\n",
       " '-0.0178132',\n",
       " '0.0373153',\n",
       " '0.0323748',\n",
       " '0.0131919',\n",
       " '-0.0151274',\n",
       " '-0.0144523',\n",
       " '-0.00260543',\n",
       " '0.00851166',\n",
       " '-0.0289496',\n",
       " '-0.0339045',\n",
       " '-0.0206584',\n",
       " '0.0451127',\n",
       " '-0.0497443',\n",
       " '-0.0134553',\n",
       " '0.0748805',\n",
       " '-0.0409156',\n",
       " '0.00507564',\n",
       " '0.0208515',\n",
       " '0.0181266',\n",
       " '0.0133984',\n",
       " '-0.00125764',\n",
       " '-0.0685017',\n",
       " '-0.00948092',\n",
       " '0.0154965',\n",
       " '-0.028946',\n",
       " '-0.0253282',\n",
       " '-0.0196186',\n",
       " '-0.0425008',\n",
       " '-0.0275358',\n",
       " '-0.00641277',\n",
       " '-0.0321649',\n",
       " '-0.058665',\n",
       " '0.0762207',\n",
       " '-0.0210589',\n",
       " '-0.00395027',\n",
       " '-0.00220681',\n",
       " '-0.045733',\n",
       " '0.0266804',\n",
       " '0.0665642',\n",
       " '0.0507914',\n",
       " '-0.00214926',\n",
       " '-0.0696937',\n",
       " '0.0413991',\n",
       " '-0.0158385',\n",
       " '-0.000146925',\n",
       " '-0.00666653',\n",
       " '-0.0342711',\n",
       " '-0.0375029',\n",
       " '0.0202197',\n",
       " '-0.0499852',\n",
       " '0.0680624',\n",
       " '-0.0225353',\n",
       " '0.0268419',\n",
       " '0.013482',\n",
       " '-0.0311554',\n",
       " '-0.0343074',\n",
       " '-0.0255861',\n",
       " '-0.00860379',\n",
       " '0.0057052',\n",
       " '-0.00993299',\n",
       " '-0.00962154',\n",
       " '-0.0101888',\n",
       " '0.0847494',\n",
       " '0.0379669',\n",
       " '0.0760098',\n",
       " '-0.00344809',\n",
       " '0.0456172',\n",
       " '0.019051',\n",
       " '-0.0170376',\n",
       " '0.0315275',\n",
       " '0.0419916',\n",
       " '0.0172251',\n",
       " '0.0224507',\n",
       " '0.0558336',\n",
       " '0.00343145',\n",
       " '0.0153718',\n",
       " '-0.00921034',\n",
       " '-0.00761532',\n",
       " '0.0459509',\n",
       " '0.00683947',\n",
       " '-0.00901049',\n",
       " '-0.0136199',\n",
       " '0.0129962',\n",
       " '0.0151135',\n",
       " '-0.00361794',\n",
       " '-0.0581455',\n",
       " '-0.0135027',\n",
       " '0.0166777',\n",
       " '-0.00915293',\n",
       " '-0.0445496',\n",
       " '0.00563633',\n",
       " '-0.00805716',\n",
       " '0.0172847',\n",
       " '0.0173194',\n",
       " '-0.013055',\n",
       " '-0.00399778',\n",
       " '-0.0342128',\n",
       " '0.0238969',\n",
       " '-0.0504941',\n",
       " '-0.0248703',\n",
       " '-0.0277717',\n",
       " '0.00947601',\n",
       " '-0.0354202',\n",
       " '0.0170845',\n",
       " '0.0367492',\n",
       " '-0.00448217',\n",
       " '0.0258756',\n",
       " '0.00712672',\n",
       " '-0.0323683',\n",
       " '-0.00440998',\n",
       " '-0.0118806',\n",
       " '0.036583',\n",
       " '-0.0128628',\n",
       " '0.0110865',\n",
       " '0.0223517',\n",
       " '-0.0322118',\n",
       " '0.00502363',\n",
       " '-0.00209017',\n",
       " '0.0389378',\n",
       " '0.0112789',\n",
       " '0.0171068',\n",
       " '0.044405',\n",
       " '0.00259542',\n",
       " '-0.0165343',\n",
       " '-0.0292915',\n",
       " '-0.0241969',\n",
       " '0.035753',\n",
       " '0.00662375',\n",
       " '-0.00214651',\n",
       " '-0.0277852',\n",
       " '-0.0254917',\n",
       " '0.0115886',\n",
       " '-0.0135538',\n",
       " '0.00878935',\n",
       " '-0.0114252',\n",
       " '-0.0148822',\n",
       " '0.0120895',\n",
       " '-0.0156471',\n",
       " '0.0217844',\n",
       " '-0.0392186',\n",
       " '0.0398082',\n",
       " '0.0227288',\n",
       " '-0.0207215',\n",
       " '-0.0308095',\n",
       " '-0.0289668',\n",
       " '0.000286899',\n",
       " '0.0420208',\n",
       " '-0.00296433',\n",
       " '-0.0105758',\n",
       " '-0.0113763',\n",
       " '0.0388019',\n",
       " '0.00311339',\n",
       " '-0.019103',\n",
       " '-0.00106311',\n",
       " '0.00687099',\n",
       " '-0.0112431',\n",
       " '-0.0177887',\n",
       " '-0.00937774',\n",
       " '0.0126857',\n",
       " '0.0157926',\n",
       " '0.00136318',\n",
       " '-0.000716738',\n",
       " '-0.00551879',\n",
       " '-0.00968899',\n",
       " '-0.0164386',\n",
       " '0.00396279',\n",
       " '-0.0283259',\n",
       " '-0.0255732',\n",
       " '0.00933826',\n",
       " '-0.0103908',\n",
       " '0.0469525',\n",
       " '-0.0109889',\n",
       " '-0.0278889',\n",
       " '0.00514637',\n",
       " '-0.000155273',\n",
       " '0.0278672',\n",
       " '0.0168572',\n",
       " '-0.00958899',\n",
       " '-0.00229068',\n",
       " '-0.0238494',\n",
       " '0.0170488',\n",
       " '-0.000458248',\n",
       " '0.0294391',\n",
       " '-0.0121199',\n",
       " '-0.0182513',\n",
       " '0.00766479',\n",
       " '-0.00553344',\n",
       " '-0.0161627',\n",
       " '-0.0131511',\n",
       " '-0.00382843',\n",
       " '-0.0164192',\n",
       " '0.0104987',\n",
       " '-0.00930482',\n",
       " '0.0157798']"
      ]
     },
     "execution_count": 16,
     "metadata": {},
     "output_type": "execute_result"
    }
   ],
   "source": [
    "line.split()"
   ]
  },
  {
   "cell_type": "code",
   "execution_count": 14,
   "metadata": {},
   "outputs": [
    {
     "data": {
      "text/plain": [
       "178719"
      ]
     },
     "execution_count": 14,
     "metadata": {},
     "output_type": "execute_result"
    }
   ],
   "source": [
    "len(words)"
   ]
  },
  {
   "cell_type": "code",
   "execution_count": null,
   "metadata": {},
   "outputs": [],
   "source": [
    "with open('data/wiki.pl.aligned.vec') as f:\n",
    "    for line in f.readlines()[1:]:"
   ]
  },
  {
   "cell_type": "code",
   "execution_count": 9,
   "metadata": {},
   "outputs": [
    {
     "data": {
      "text/plain": [
       "'</s> 0.0321161 -0.220719 0.124438 -0.00926508 -0.0740218 -0.0172236 0.109326 0.250572 0.318885 0.00938166 -0.0841455 -0.0919657 0.0499988 0.00960425 -0.134863 -0.0746048 -0.0413067 -0.018231 0.14357 0.0134478 -0.0187504 -0.0699536 0.00860181 -0.00865755 -0.0791225 -0.0463163 -0.034485 0.0279513 -0.0589544 -0.0407527 0.052333 -0.0110106 -0.0327343 -0.0403282 -0.0105641 -0.0216702 -0.0100932 -0.0640855 0.0649875 -0.0647621 -0.00679458 0.0442129 0.0381403 0.000760199 0.0459121 -0.0460971 -0.0187912 -0.111585 0.0261081 0.0287817 -0.0583978 0.0355259 0.0554455 -0.0360979 -0.056411 -0.000415022 0.011188 -0.0786568 0.0211859 -0.148625 -0.0175403 0.0630089 0.0547974 0.01752 -0.0605584 0.00304843 0.042199 -0.0136111 -0.0642873 -0.0160942 -0.0285941 -0.00691622 -0.0202147 0.0792829 0.000268719 -0.000134218 -0.0183332 -0.00610847 -0.0181852 -0.0172873 0.00703196 0.00038558 0.0257223 -0.00443342 -0.0205739 -0.00805204 0.0781359 -0.0238407 -0.0302547 -0.0172303 -0.0237644 -0.0554416 -0.00364135 0.0288548 -0.0358903 0.0208503 -0.0340344 -0.0558411 0.0628497 0.0285193 0.0358219 0.0173093 -0.00710461 -0.00366609 0.0210174 -0.00782178 0.0121123 -0.048857 -0.00186576 0.00938035 -0.0222875 -0.0320407 0.0164612 -0.050893 0.0317495 -0.00070267 -0.0385914 -0.0416876 0.0468909 -0.0503265 -0.0631792 0.00666739 -0.0223603 0.00613891 0.0161706 -0.0147159 0.015654 -0.00737382 -0.0435528 0.0176174 -0.0469738 -0.061199 -0.0163208 -0.0381853 -0.0156491 -0.00944709 -0.0373765 -0.0348583 0.0246661 -0.0482837 -0.0249045 0.0244213 0.00265057 -0.0550587 -0.0397197 0.019402 -0.00749617 -0.0403324 -0.020565 0.0372375 -0.0107882 0.0014225 -0.00949097 -0.0328778 -0.00310371 0.00042857 -0.0315821 -0.0294821 -0.00829838 0.0209424 -0.0144135 -0.0083217 -0.0136114 0.0689249 0.0222125 0.036607 -0.0236188 0.0143428 0.042618 0.0289863 0.000390331 -0.053346 -0.0122375 -0.0484535 -0.0323716 -0.00429826 -0.0289651 -0.00120536 -0.03109 -0.0179761 0.033474 0.0471565 -0.00372636 0.0265959 0.0219995 0.0226252 -0.031274 0.0131205 -0.0313473 0.0125806 0.0162924 0.0173696 0.0681809 0.00748073 0.0114007 -0.00743553 0.0454154 -0.0427676 0.0155842 -0.00242748 -0.00030868 -0.0204927 0.0402021 0.0236874 0.0027731 0.0215844 0.00951589 -0.013107 -0.0122393 0.0130918 0.0331259 -0.0222162 -0.0387864 -0.00271463 0.0505103 -0.0227894 0.012006 0.0242503 0.0282208 0.000422508 0.0272983 -0.0202097 -0.000196145 0.00595205 -0.000593583 0.0157177 -0.0118258 -0.0100859 -0.00262235 0.0401399 0.0251734 0.0227744 -0.0058846 -0.0120493 0.0172206 0.0400109 0.010115 -0.0561625 0.0212534 -0.0415863 -0.0166849 0.0119768 0.00728952 0.00291317 -0.0420237 0.00879183 -0.0163139 -0.00756175 -0.0174528 -0.00982537 0.0199375 -0.00354881 -0.0192918 0.0113604 0.0101542 -0.00491593 -0.00979948 -0.0150903 0.00432918 -0.0121606 0.0251966 -0.00666048 0.0175377 0.0144536 0.0083858 -0.0155491 -0.0195772 -0.0149002 0.00941701 0.0060667 -0.0234758 -0.00765591 -0.012701 0.00386044 0.0014483 0.0182648 0.0114966 0.0181946 0.0187688 0.00983102 0.00180958 -0.0184016 0.00151931 -0.00543816 -0.00599254 0.00146573 -0.006122 -0.00134775 -0.00022477 -0.00650863 0.0103366 -0.00306865 -0.00275607 0.0119488 -0.00388671 0.00924561 -0.00733869 -0.00667988 0.00753539 -0.0149876\\n'"
      ]
     },
     "execution_count": 9,
     "metadata": {},
     "output_type": "execute_result"
    }
   ],
   "source": [
    "line"
   ]
  },
  {
   "cell_type": "code",
   "execution_count": null,
   "metadata": {},
   "outputs": [],
   "source": []
  },
  {
   "cell_type": "code",
   "execution_count": 4,
   "metadata": {},
   "outputs": [
    {
     "data": {
      "text/plain": [
       "embedding_gym.core.Embeddings"
      ]
     },
     "execution_count": 4,
     "metadata": {},
     "output_type": "execute_result"
    }
   ],
   "source": [
    "Embeddings()"
   ]
  },
  {
   "cell_type": "code",
   "execution_count": null,
   "metadata": {},
   "outputs": [],
   "source": [
    "pl_en_dict.source_words"
   ]
  },
  {
   "cell_type": "code",
   "execution_count": 43,
   "metadata": {},
   "outputs": [
    {
     "data": {
      "text/plain": [
       "{'roku': 'year'}"
      ]
     },
     "execution_count": 43,
     "metadata": {},
     "output_type": "execute_result"
    }
   ],
   "source": [
    "pl_en_dict.dict.keys"
   ]
  },
  {
   "cell_type": "code",
   "execution_count": 41,
   "metadata": {},
   "outputs": [
    {
     "ename": "KeyError",
     "evalue": "'jest'",
     "output_type": "error",
     "traceback": [
      "\u001b[0;31m---------------------------------------------------------------------------\u001b[0m",
      "\u001b[0;31mKeyError\u001b[0m                                  Traceback (most recent call last)",
      "\u001b[0;32m<ipython-input-41-7f9663db6c03>\u001b[0m in \u001b[0;36m<module>\u001b[0;34m\u001b[0m\n\u001b[0;32m----> 1\u001b[0;31m \u001b[0mpl_en_dict\u001b[0m\u001b[0;34m[\u001b[0m\u001b[0;34m'jest'\u001b[0m\u001b[0;34m]\u001b[0m\u001b[0;34m\u001b[0m\u001b[0;34m\u001b[0m\u001b[0m\n\u001b[0m",
      "\u001b[0;32m<ipython-input-37-0a527d6dd9d8>\u001b[0m in \u001b[0;36m__getitem__\u001b[0;34m(self, source_word)\u001b[0m\n\u001b[1;32m     19\u001b[0m \u001b[0;34m\u001b[0m\u001b[0m\n\u001b[1;32m     20\u001b[0m     \u001b[0;32mdef\u001b[0m \u001b[0m__getitem__\u001b[0m\u001b[0;34m(\u001b[0m\u001b[0mself\u001b[0m\u001b[0;34m,\u001b[0m \u001b[0msource_word\u001b[0m\u001b[0;34m)\u001b[0m\u001b[0;34m:\u001b[0m\u001b[0;34m\u001b[0m\u001b[0;34m\u001b[0m\u001b[0m\n\u001b[0;32m---> 21\u001b[0;31m         \u001b[0;32mreturn\u001b[0m \u001b[0mself\u001b[0m\u001b[0;34m.\u001b[0m\u001b[0mdict\u001b[0m\u001b[0;34m[\u001b[0m\u001b[0msource_word\u001b[0m\u001b[0;34m]\u001b[0m\u001b[0;34m\u001b[0m\u001b[0;34m\u001b[0m\u001b[0m\n\u001b[0m",
      "\u001b[0;31mKeyError\u001b[0m: 'jest'"
     ]
    }
   ],
   "source": [
    "pl_en_dict['jest']"
   ]
  },
  {
   "cell_type": "code",
   "execution_count": null,
   "metadata": {},
   "outputs": [],
   "source": []
  },
  {
   "cell_type": "code",
   "execution_count": null,
   "metadata": {},
   "outputs": [],
   "source": [
    "from collections import defaultdict\n",
    "\n",
    "def get_en_es_dict(vocab_en, vocab_es):\n",
    "    with open('data/en-es.txt') as f:\n",
    "        en_es = f.readlines()\n",
    "    en_es = [l.strip() for l in en_es]\n",
    "    \n",
    "    en_es_dict = defaultdict(list)\n",
    "    for l in en_es:\n",
    "        source, target = l.split()\n",
    "        en_es_dict[source].append(target)\n",
    "        \n",
    "    # check that we have the source word in the model trained on English\n",
    "    vocab_en_set = set(vocab_en)\n",
    "    en_es_dict = {k: v for k, v in en_es_dict.items() if k in vocab_en_set}\n",
    "    \n",
    "    # make sure we have the target word in Spanish\n",
    "    vocab_es_set = set(vocab_es)\n",
    "    en_es_dict = {k: vocab_es_set.intersection(set(v)) for k, v in en_es_dict.items() if vocab_es_set.intersection(set(v))}\n",
    "    \n",
    "    return en_es_dict"
   ]
  },
  {
   "cell_type": "code",
   "execution_count": 12,
   "metadata": {},
   "outputs": [
    {
     "data": {
      "text/plain": [
       "'nie\\tnot\\n'"
      ]
     },
     "execution_count": 12,
     "metadata": {},
     "output_type": "execute_result"
    }
   ],
   "source": [
    "pl_en_dict[2]"
   ]
  },
  {
   "cell_type": "code",
   "execution_count": 8,
   "metadata": {},
   "outputs": [
    {
     "data": {
      "text/plain": [
       "73901"
      ]
     },
     "execution_count": 8,
     "metadata": {},
     "output_type": "execute_result"
    }
   ],
   "source": [
    "len(pl_en_dict)"
   ]
  },
  {
   "cell_type": "code",
   "execution_count": 3,
   "metadata": {},
   "outputs": [],
   "source": [
    "with open('data/wiki.pl.vec') as f:\n",
    "    en_src = f.readlines()"
   ]
  },
  {
   "cell_type": "code",
   "execution_count": 4,
   "metadata": {},
   "outputs": [
    {
     "data": {
      "text/plain": [
       "1032578"
      ]
     },
     "execution_count": 4,
     "metadata": {},
     "output_type": "execute_result"
    }
   ],
   "source": [
    "len(en_src)"
   ]
  },
  {
   "cell_type": "code",
   "execution_count": 1,
   "metadata": {},
   "outputs": [],
   "source": [
    "from fastai.data.all import untar_data\n",
    "embedding_path = untar_data('https://storage.googleapis.com/text-embeddings/GoogleNews-vectors-negative300.bin.tar.gz')"
   ]
  },
  {
   "cell_type": "markdown",
   "metadata": {},
   "source": [
    "Now let's load the embeddings using `gensim`."
   ]
  },
  {
   "cell_type": "code",
   "execution_count": 2,
   "metadata": {},
   "outputs": [],
   "source": [
    "from gensim.models.keyedvectors import KeyedVectors\n",
    "\n",
    "gensim_embeddings = KeyedVectors.load_word2vec_format(embedding_path, binary=True)"
   ]
  },
  {
   "cell_type": "code",
   "execution_count": 3,
   "metadata": {},
   "outputs": [
    {
     "data": {
      "text/plain": [
       "(3000000, (300,))"
      ]
     },
     "execution_count": 3,
     "metadata": {},
     "output_type": "execute_result"
    }
   ],
   "source": [
    "len(gensim_embeddings.index2entity), gensim_embeddings['cat'].shape"
   ]
  },
  {
   "cell_type": "markdown",
   "metadata": {},
   "source": [
    "3 million distinct embeddings, each of dimensionality 300!"
   ]
  },
  {
   "cell_type": "markdown",
   "metadata": {},
   "source": [
    "Let's perform the evaluation using the original list of `question-words.txt` as used in the paper (and that was shared by the authors on github [here](https://github.com/tmikolov/word2vec/blob/master/questions-words.txt)).\n",
    "\n",
    "We could use the functionality built into `gensim` to run the evaluation, but this might make it tricky to evaluate embeddings that we train ourselves, or should we want to modify the list of queries.\n",
    "\n",
    "Instead, let's perform the evaluation using code that we develop in this repository. As a starting point, all we need is an array of embeddings and a list with words corresponding to each vector!\n",
    "\n",
    "<!-- We will use [annoy](https://github.com/spotify/annoy) for approximate nearest neighbor lookup. Upon the first run, the embeddings will be added to an index and multiple trees enabling the search will be constructed. Given the size of these embeddings, this took around 5 minutes for me.  -->"
   ]
  },
  {
   "cell_type": "code",
   "execution_count": 6,
   "metadata": {},
   "outputs": [],
   "source": [
    "import numpy as np\n",
    "\n",
    "class Embeddings():\n",
    "    def __init__(self, embeddings, index2word):\n",
    "        '''embeddings - numpy array of embeddings, index2word - list of words corresponding to embeddings'''\n",
    "        self.vectors = embeddings\n",
    "        self.i2w = index2word\n",
    "        self.w2i = {w:i for i, w in enumerate(index2word)}\n",
    "            \n",
    "    def analogy(self, a, b, c, n=5):\n",
    "        '''\n",
    "        a is to b as c is to ?\n",
    "        \n",
    "        Performs the following algebraic calculation: result = emb_a - emb_b + emb_c\n",
    "        Looks up n closest words to result.\n",
    "        \n",
    "        Implements the embedding space math behind the famous word2vec example:\n",
    "        king - man + woman = queen\n",
    "        '''\n",
    "        question_word_indices = [self.w2i[word] for word in [a, b, c]]\n",
    "        a, b, c = [self.vectors[idx] for idx in question_word_indices] \n",
    "        result = a - b + c\n",
    "        \n",
    "        nn_indices = np.flip(\n",
    "            np.argsort(self.vectors @ result / (np.linalg.norm(self.vectors, axis=1) * np.linalg.norm(result)))\n",
    "        )\n",
    "        \n",
    "        nn_words = []\n",
    "        for idx in nn_indices:\n",
    "            if idx in question_word_indices: continue\n",
    "            nn_words.append(self.i2w[idx])\n",
    "            if len(nn_words) == n: break\n",
    "        \n",
    "        return nn_words"
   ]
  },
  {
   "cell_type": "code",
   "execution_count": 7,
   "metadata": {},
   "outputs": [
    {
     "data": {
      "text/plain": [
       "(30000, 300)"
      ]
     },
     "execution_count": 7,
     "metadata": {},
     "output_type": "execute_result"
    }
   ],
   "source": [
    "gensim_embeddings.vectors[:30000].shape"
   ]
  },
  {
   "cell_type": "code",
   "execution_count": 8,
   "metadata": {},
   "outputs": [],
   "source": [
    "# grabbing just the vectors and mapping of vectors to words from gensim embeddings and instatiating our own embedding object\n",
    "# let's stick to just 50_000 of the most popular words so that the computation will run faster\n",
    "\n",
    "embeddings = Embeddings(gensim_embeddings.vectors[:50_000], gensim_embeddings.index2word[:50_000])"
   ]
  },
  {
   "cell_type": "markdown",
   "metadata": {},
   "source": [
    "Now that we have the Embeddings in place, we can run some examples. France is to Paris as ? is to Warsaw..."
   ]
  },
  {
   "cell_type": "code",
   "execution_count": 9,
   "metadata": {},
   "outputs": [
    {
     "name": "stdout",
     "output_type": "stream",
     "text": [
      "CPU times: user 116 ms, sys: 4 ms, total: 120 ms\n",
      "Wall time: 39.9 ms\n"
     ]
    },
    {
     "data": {
      "text/plain": [
       "['Poland', 'Polish', 'Romania', 'Lithuania', 'Poles']"
      ]
     },
     "execution_count": 9,
     "metadata": {},
     "output_type": "execute_result"
    }
   ],
   "source": [
    "%%time\n",
    "embeddings.analogy('France', 'Paris', 'Warsaw', 5)"
   ]
  },
  {
   "cell_type": "markdown",
   "metadata": {},
   "source": [
    "Got that one right! Now let's try the classic example of king - man + women = ?"
   ]
  },
  {
   "cell_type": "code",
   "execution_count": 10,
   "metadata": {},
   "outputs": [
    {
     "name": "stdout",
     "output_type": "stream",
     "text": [
      "CPU times: user 96 ms, sys: 12 ms, total: 108 ms\n",
      "Wall time: 36 ms\n"
     ]
    },
    {
     "data": {
      "text/plain": [
       "['queen', 'monarch', 'princess', 'prince', 'kings']"
      ]
     },
     "execution_count": 10,
     "metadata": {},
     "output_type": "execute_result"
    }
   ],
   "source": [
    "%%time\n",
    "embeddings.analogy('king', 'man', 'woman', 5)"
   ]
  },
  {
   "cell_type": "markdown",
   "metadata": {},
   "source": [
    "We get it right as well!\n",
    "\n",
    "Despite kings and queens not being discussed that often in the news today, this is still a great and slightly unexpected performance. Why should such an algebraic structure emerge when trained on a lot of text data in the first place? But yet it does!\n",
    "\n",
    "Let's explore the performance further, by running through the list of question-answer pairs."
   ]
  },
  {
   "cell_type": "code",
   "execution_count": 11,
   "metadata": {},
   "outputs": [],
   "source": [
    "with open('data/questions-words.txt') as f:\n",
    "    lines = f.readlines()"
   ]
  },
  {
   "cell_type": "code",
   "execution_count": 28,
   "metadata": {},
   "outputs": [
    {
     "name": "stdout",
     "output_type": "stream",
     "text": [
      "CPU times: user 24min 59s, sys: 3min 26s, total: 28min 26s\n",
      "Wall time: 9min 28s\n"
     ]
    }
   ],
   "source": [
    "%%time\n",
    "\n",
    "from collections import defaultdict\n",
    "\n",
    "total_seen = defaultdict(lambda: 0)\n",
    "correct = defaultdict(lambda: 0)\n",
    "question_types = []\n",
    "\n",
    "for line in lines:\n",
    "    if line[0] == ':':\n",
    "        question_types.append(line[1:].strip())\n",
    "        current_type = question_types[-1]\n",
    "    else:\n",
    "        total_seen[current_type] += 1\n",
    "        example = line.strip().split(' ')\n",
    "        try:\n",
    "            result = embeddings.analogy(*example[:2], example[3], 1)\n",
    "            if example[2] == result[0]: correct[current_type] += 1\n",
    "        except KeyError:\n",
    "            pass"
   ]
  },
  {
   "cell_type": "code",
   "execution_count": 44,
   "metadata": {},
   "outputs": [],
   "source": [
    "types = []\n",
    "results = []\n",
    "for key in total_seen.keys():\n",
    "    types.append(key)\n",
    "    results.append(f'{correct[key]} / {total_seen[key]}')"
   ]
  },
  {
   "cell_type": "code",
   "execution_count": 52,
   "metadata": {},
   "outputs": [
    {
     "data": {
      "text/html": [
       "<div>\n",
       "<style scoped>\n",
       "    .dataframe tbody tr th:only-of-type {\n",
       "        vertical-align: middle;\n",
       "    }\n",
       "\n",
       "    .dataframe tbody tr th {\n",
       "        vertical-align: top;\n",
       "    }\n",
       "\n",
       "    .dataframe thead th {\n",
       "        text-align: right;\n",
       "    }\n",
       "</style>\n",
       "<table border=\"1\" class=\"dataframe\">\n",
       "  <thead>\n",
       "    <tr style=\"text-align: right;\">\n",
       "      <th></th>\n",
       "      <th>question type</th>\n",
       "      <th>result</th>\n",
       "    </tr>\n",
       "  </thead>\n",
       "  <tbody>\n",
       "    <tr>\n",
       "      <th>0</th>\n",
       "      <td>capital-common-countries</td>\n",
       "      <td>397 / 506</td>\n",
       "    </tr>\n",
       "    <tr>\n",
       "      <th>1</th>\n",
       "      <td>capital-world</td>\n",
       "      <td>1512 / 4524</td>\n",
       "    </tr>\n",
       "    <tr>\n",
       "      <th>2</th>\n",
       "      <td>currency</td>\n",
       "      <td>64 / 866</td>\n",
       "    </tr>\n",
       "    <tr>\n",
       "      <th>3</th>\n",
       "      <td>city-in-state</td>\n",
       "      <td>463 / 2467</td>\n",
       "    </tr>\n",
       "    <tr>\n",
       "      <th>4</th>\n",
       "      <td>family</td>\n",
       "      <td>377 / 506</td>\n",
       "    </tr>\n",
       "    <tr>\n",
       "      <th>5</th>\n",
       "      <td>gram1-adjective-to-adverb</td>\n",
       "      <td>257 / 992</td>\n",
       "    </tr>\n",
       "    <tr>\n",
       "      <th>6</th>\n",
       "      <td>gram2-opposite</td>\n",
       "      <td>257 / 812</td>\n",
       "    </tr>\n",
       "    <tr>\n",
       "      <th>7</th>\n",
       "      <td>gram3-comparative</td>\n",
       "      <td>1044 / 1332</td>\n",
       "    </tr>\n",
       "    <tr>\n",
       "      <th>8</th>\n",
       "      <td>gram4-superlative</td>\n",
       "      <td>644 / 1122</td>\n",
       "    </tr>\n",
       "    <tr>\n",
       "      <th>9</th>\n",
       "      <td>gram5-present-participle</td>\n",
       "      <td>745 / 1056</td>\n",
       "    </tr>\n",
       "    <tr>\n",
       "      <th>10</th>\n",
       "      <td>gram6-nationality-adjective</td>\n",
       "      <td>1401 / 1599</td>\n",
       "    </tr>\n",
       "    <tr>\n",
       "      <th>11</th>\n",
       "      <td>gram7-past-tense</td>\n",
       "      <td>1139 / 1560</td>\n",
       "    </tr>\n",
       "    <tr>\n",
       "      <th>12</th>\n",
       "      <td>gram8-plural</td>\n",
       "      <td>876 / 1332</td>\n",
       "    </tr>\n",
       "    <tr>\n",
       "      <th>13</th>\n",
       "      <td>gram9-plural-verbs</td>\n",
       "      <td>570 / 870</td>\n",
       "    </tr>\n",
       "  </tbody>\n",
       "</table>\n",
       "</div>"
      ],
      "text/plain": [
       "                  question type       result\n",
       "0      capital-common-countries    397 / 506\n",
       "1                 capital-world  1512 / 4524\n",
       "2                      currency     64 / 866\n",
       "3                 city-in-state   463 / 2467\n",
       "4                        family    377 / 506\n",
       "5     gram1-adjective-to-adverb    257 / 992\n",
       "6                gram2-opposite    257 / 812\n",
       "7             gram3-comparative  1044 / 1332\n",
       "8             gram4-superlative   644 / 1122\n",
       "9      gram5-present-participle   745 / 1056\n",
       "10  gram6-nationality-adjective  1401 / 1599\n",
       "11             gram7-past-tense  1139 / 1560\n",
       "12                 gram8-plural   876 / 1332\n",
       "13           gram9-plural-verbs    570 / 870"
      ]
     },
     "metadata": {},
     "output_type": "display_data"
    },
    {
     "name": "stdout",
     "output_type": "stream",
     "text": [
      "Accuracy: 0.4986696684404421\n"
     ]
    }
   ],
   "source": [
    "import pandas as pd\n",
    "\n",
    "df = pd.DataFrame(data={'question type': types, 'result': results})\n",
    "display(df)\n",
    "print('Accuracy:', sum(correct.values()) / sum(total_seen.values()))"
   ]
  }
 ],
 "metadata": {
  "kernelspec": {
   "display_name": "Python 3",
   "language": "python",
   "name": "python3"
  },
  "language_info": {
   "codemirror_mode": {
    "name": "ipython",
    "version": 3
   },
   "file_extension": ".py",
   "mimetype": "text/x-python",
   "name": "python",
   "nbconvert_exporter": "python",
   "pygments_lexer": "ipython3",
   "version": "3.7.6"
  }
 },
 "nbformat": 4,
 "nbformat_minor": 2
}
